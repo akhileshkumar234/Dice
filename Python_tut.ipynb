{
  "nbformat": 4,
  "nbformat_minor": 0,
  "metadata": {
    "colab": {
      "name": "Python_tut.ipynb",
      "provenance": [],
      "collapsed_sections": [],
      "authorship_tag": "ABX9TyNFb/oae72Xkfhb8eOv9lkM",
      "include_colab_link": true
    },
    "kernelspec": {
      "name": "python3",
      "display_name": "Python 3"
    },
    "language_info": {
      "name": "python"
    }
  },
  "cells": [
    {
      "cell_type": "markdown",
      "metadata": {
        "id": "view-in-github",
        "colab_type": "text"
      },
      "source": [
        "<a href=\"https://colab.research.google.com/github/akhileshkumar234/Dice/blob/master/Python_tut.ipynb\" target=\"_parent\"><img src=\"https://colab.research.google.com/assets/colab-badge.svg\" alt=\"Open In Colab\"/></a>"
      ]
    },
    {
      "cell_type": "code",
      "metadata": {
        "id": "FbFqwNhtny-V"
      },
      "source": [
        "var_1='Juputyer'"
      ],
      "execution_count": null,
      "outputs": []
    },
    {
      "cell_type": "code",
      "metadata": {
        "id": "WKFkogUUn7gA"
      },
      "source": [
        "type(var_1)"
      ],
      "execution_count": null,
      "outputs": []
    },
    {
      "cell_type": "code",
      "metadata": {
        "id": "23KfV4lXoA9t"
      },
      "source": [
        "var_2=(3,4,56,7)"
      ],
      "execution_count": null,
      "outputs": []
    },
    {
      "cell_type": "code",
      "metadata": {
        "id": "JgOjW6xxoFGV"
      },
      "source": [
        "type(var_2)"
      ],
      "execution_count": null,
      "outputs": []
    },
    {
      "cell_type": "code",
      "metadata": {
        "id": "aG_5FEQ-oHRN"
      },
      "source": [
        "var_3=None"
      ],
      "execution_count": null,
      "outputs": []
    },
    {
      "cell_type": "code",
      "metadata": {
        "id": "NTcCU-Q5oTnL"
      },
      "source": [
        "type(var_3)"
      ],
      "execution_count": null,
      "outputs": []
    },
    {
      "cell_type": "code",
      "metadata": {
        "id": "t8DXtzg4oV2L"
      },
      "source": [
        "a=True"
      ],
      "execution_count": null,
      "outputs": []
    },
    {
      "cell_type": "code",
      "metadata": {
        "id": "ElSz8rdHoa9z"
      },
      "source": [
        "type(a)"
      ],
      "execution_count": null,
      "outputs": []
    },
    {
      "cell_type": "code",
      "metadata": {
        "id": "3XsIVfrfocH0"
      },
      "source": [
        "var1={'data':[3,4,5,6],'val':[23,45,67,4]}"
      ],
      "execution_count": null,
      "outputs": []
    },
    {
      "cell_type": "code",
      "metadata": {
        "id": "KrQhELUvouJ0"
      },
      "source": [
        "type(var1)"
      ],
      "execution_count": null,
      "outputs": []
    },
    {
      "cell_type": "code",
      "metadata": {
        "id": "OUjJNlm2ovor"
      },
      "source": [
        "print(var1)"
      ],
      "execution_count": null,
      "outputs": []
    },
    {
      "cell_type": "code",
      "metadata": {
        "id": "RcvqJ9Guox1k"
      },
      "source": [
        ""
      ],
      "execution_count": null,
      "outputs": []
    },
    {
      "cell_type": "code",
      "metadata": {
        "id": "l1GzXy_BpBBs"
      },
      "source": [
        "var2=range(10,68,4)"
      ],
      "execution_count": null,
      "outputs": []
    },
    {
      "cell_type": "code",
      "metadata": {
        "id": "7cNw5iy6poh7"
      },
      "source": [
        "type(var2)"
      ],
      "execution_count": null,
      "outputs": []
    },
    {
      "cell_type": "code",
      "metadata": {
        "id": "XpIo8GGupqtL"
      },
      "source": [
        "for i in var2:\n",
        "  print(i)"
      ],
      "execution_count": null,
      "outputs": []
    },
    {
      "cell_type": "code",
      "metadata": {
        "id": "XIu9uOgOpumz"
      },
      "source": [
        "for i in range(1,101):\n",
        "  print(i)"
      ],
      "execution_count": null,
      "outputs": []
    },
    {
      "cell_type": "code",
      "metadata": {
        "colab": {
          "base_uri": "https://localhost:8080/"
        },
        "id": "zADxHfuwp75q",
        "outputId": "abce1e38-524b-4632-fa21-35deb65a5a4c"
      },
      "source": [
        "a=[1,2,3]\n",
        "print(a)\n",
        "tuple1=(3,4,'Tuple')\n",
        "print(tuple1)"
      ],
      "execution_count": 19,
      "outputs": [
        {
          "output_type": "stream",
          "text": [
            "[1, 2, 3]\n",
            "(3, 4, 'Tuple')\n"
          ],
          "name": "stdout"
        }
      ]
    },
    {
      "cell_type": "code",
      "metadata": {
        "id": "HusAztkOqbRz"
      },
      "source": [
        "b=[2,3,'hope']"
      ],
      "execution_count": 20,
      "outputs": []
    },
    {
      "cell_type": "code",
      "metadata": {
        "id": "woBwoexlqih6"
      },
      "source": [
        "a.append(b)"
      ],
      "execution_count": 21,
      "outputs": []
    },
    {
      "cell_type": "code",
      "metadata": {
        "colab": {
          "base_uri": "https://localhost:8080/"
        },
        "id": "XwkK0xZyqoeb",
        "outputId": "62683056-be0a-4838-fc16-41660a3bdafa"
      },
      "source": [
        "a"
      ],
      "execution_count": 22,
      "outputs": [
        {
          "output_type": "execute_result",
          "data": {
            "text/plain": [
              "[1, 2, 3, [2, 3, 'hope']]"
            ]
          },
          "metadata": {
            "tags": []
          },
          "execution_count": 22
        }
      ]
    },
    {
      "cell_type": "code",
      "metadata": {
        "colab": {
          "base_uri": "https://localhost:8080/",
          "height": 162
        },
        "id": "h5UESXACqpXz",
        "outputId": "ed88833e-2071-4828-81a2-42a814953748"
      },
      "source": [
        "tuple1.append('horse')"
      ],
      "execution_count": 24,
      "outputs": [
        {
          "output_type": "error",
          "ename": "AttributeError",
          "evalue": "ignored",
          "traceback": [
            "\u001b[0;31m---------------------------------------------------------------------------\u001b[0m",
            "\u001b[0;31mAttributeError\u001b[0m                            Traceback (most recent call last)",
            "\u001b[0;32m<ipython-input-24-b40831ced81f>\u001b[0m in \u001b[0;36m<module>\u001b[0;34m()\u001b[0m\n\u001b[0;32m----> 1\u001b[0;31m \u001b[0mtuple1\u001b[0m\u001b[0;34m.\u001b[0m\u001b[0mappend\u001b[0m\u001b[0;34m(\u001b[0m\u001b[0;34m'horse'\u001b[0m\u001b[0;34m)\u001b[0m\u001b[0;34m\u001b[0m\u001b[0;34m\u001b[0m\u001b[0m\n\u001b[0m",
            "\u001b[0;31mAttributeError\u001b[0m: 'tuple' object has no attribute 'append'"
          ]
        }
      ]
    },
    {
      "cell_type": "code",
      "metadata": {
        "id": "BHLrctzHqxn7"
      },
      "source": [
        "list1=list(tuple1)"
      ],
      "execution_count": 25,
      "outputs": []
    },
    {
      "cell_type": "code",
      "metadata": {
        "colab": {
          "base_uri": "https://localhost:8080/"
        },
        "id": "NCMDmvRjrLai",
        "outputId": "cd7d46df-e994-4594-e629-a65d2239f6d5"
      },
      "source": [
        "list1"
      ],
      "execution_count": 26,
      "outputs": [
        {
          "output_type": "execute_result",
          "data": {
            "text/plain": [
              "[3, 4, 'Tuple']"
            ]
          },
          "metadata": {
            "tags": []
          },
          "execution_count": 26
        }
      ]
    },
    {
      "cell_type": "code",
      "metadata": {
        "id": "WL3XTjTvrMeE"
      },
      "source": [
        "a=90\n",
        "b=90.88\n",
        "c=23"
      ],
      "execution_count": 27,
      "outputs": []
    },
    {
      "cell_type": "code",
      "metadata": {
        "colab": {
          "base_uri": "https://localhost:8080/"
        },
        "id": "2xtIZCUNsC55",
        "outputId": "57163a7c-9853-474e-c1ff-f60e4c2f2328"
      },
      "source": [
        "print(a+b+c)"
      ],
      "execution_count": 28,
      "outputs": [
        {
          "output_type": "stream",
          "text": [
            "203.88\n"
          ],
          "name": "stdout"
        }
      ]
    },
    {
      "cell_type": "code",
      "metadata": {
        "colab": {
          "base_uri": "https://localhost:8080/"
        },
        "id": "HsLWEhxhsE46",
        "outputId": "800682d0-4f44-4bfd-8ee6-a2da5938a11e"
      },
      "source": [
        "bool1=True\n",
        "print(not bool1)"
      ],
      "execution_count": 29,
      "outputs": [
        {
          "output_type": "stream",
          "text": [
            "False\n"
          ],
          "name": "stdout"
        }
      ]
    },
    {
      "cell_type": "code",
      "metadata": {
        "colab": {
          "base_uri": "https://localhost:8080/"
        },
        "id": "Wn-0LsPqs0xZ",
        "outputId": "7cf39718-e855-46f4-aced-1b6090ace157"
      },
      "source": [
        "print(a==20)"
      ],
      "execution_count": 30,
      "outputs": [
        {
          "output_type": "stream",
          "text": [
            "False\n"
          ],
          "name": "stdout"
        }
      ]
    },
    {
      "cell_type": "code",
      "metadata": {
        "colab": {
          "base_uri": "https://localhost:8080/"
        },
        "id": "2vHOFuwptMl6",
        "outputId": "43f11e36-c950-45dd-a2e7-7bf2a6a044da"
      },
      "source": [
        "print(bool1==1)"
      ],
      "execution_count": 31,
      "outputs": [
        {
          "output_type": "stream",
          "text": [
            "True\n"
          ],
          "name": "stdout"
        }
      ]
    },
    {
      "cell_type": "markdown",
      "metadata": {
        "id": "Z9sMf5qvtdTj"
      },
      "source": [
        "##fibonacci series"
      ]
    },
    {
      "cell_type": "code",
      "metadata": {
        "id": "TcIFWS1otS6p"
      },
      "source": [
        "a=0\n",
        "b=1"
      ],
      "execution_count": 46,
      "outputs": []
    },
    {
      "cell_type": "code",
      "metadata": {
        "colab": {
          "base_uri": "https://localhost:8080/"
        },
        "id": "Ulg4CPKltjZY",
        "outputId": "ae9e5cde-284a-443f-d67f-c739520836c3"
      },
      "source": [
        "print(a)\n",
        "print(b)\n",
        "for i in range(1,10):\n",
        "  print(a+b)\n",
        "  t=b\n",
        "  b=a+b\n",
        "  a=t"
      ],
      "execution_count": 47,
      "outputs": [
        {
          "output_type": "stream",
          "text": [
            "0\n",
            "1\n",
            "1\n",
            "2\n",
            "3\n",
            "5\n",
            "8\n",
            "13\n",
            "21\n",
            "34\n",
            "55\n"
          ],
          "name": "stdout"
        }
      ]
    },
    {
      "cell_type": "code",
      "metadata": {
        "id": "5XQcpw1st1EJ"
      },
      "source": [
        "def reverse_no(x):\n",
        "  temp=0\n",
        "  while x:\n",
        "    temp=temp*10+x%10\n",
        "    x=x//10\n",
        "  return temp"
      ],
      "execution_count": 49,
      "outputs": []
    },
    {
      "cell_type": "code",
      "metadata": {
        "colab": {
          "base_uri": "https://localhost:8080/"
        },
        "id": "sUaq2vv9v-W4",
        "outputId": "8224a944-4de8-41f8-e2b0-617d6dfb6e25"
      },
      "source": [
        "reverse_no(2345)"
      ],
      "execution_count": 50,
      "outputs": [
        {
          "output_type": "execute_result",
          "data": {
            "text/plain": [
              "5432"
            ]
          },
          "metadata": {
            "tags": []
          },
          "execution_count": 50
        }
      ]
    },
    {
      "cell_type": "code",
      "metadata": {
        "colab": {
          "base_uri": "https://localhost:8080/"
        },
        "id": "Bbju_zmCwID_",
        "outputId": "74412bf5-5564-4f85-ce7f-df12d6e9361c"
      },
      "source": [
        "a=int(input('Enter a number:'))"
      ],
      "execution_count": 51,
      "outputs": [
        {
          "output_type": "stream",
          "text": [
            "Enter a number:34\n"
          ],
          "name": "stdout"
        }
      ]
    },
    {
      "cell_type": "code",
      "metadata": {
        "colab": {
          "base_uri": "https://localhost:8080/"
        },
        "id": "IfUWvuINxb9r",
        "outputId": "fa893bb8-161d-4fae-8b00-e94210f75a50"
      },
      "source": [
        "a"
      ],
      "execution_count": 52,
      "outputs": [
        {
          "output_type": "execute_result",
          "data": {
            "text/plain": [
              "34"
            ]
          },
          "metadata": {
            "tags": []
          },
          "execution_count": 52
        }
      ]
    },
    {
      "cell_type": "code",
      "metadata": {
        "id": "lBUA5wG9xXDW"
      },
      "source": [
        "list1=[45,'Apple','Banana']"
      ],
      "execution_count": 53,
      "outputs": []
    },
    {
      "cell_type": "code",
      "metadata": {
        "id": "hqzZr11Zxz6g"
      },
      "source": [
        "list1.append('Orange')"
      ],
      "execution_count": 54,
      "outputs": []
    },
    {
      "cell_type": "code",
      "metadata": {
        "colab": {
          "base_uri": "https://localhost:8080/"
        },
        "id": "r6jAvQegx3SX",
        "outputId": "39ab22f7-efd6-4614-fe4e-50f562aac857"
      },
      "source": [
        "list1"
      ],
      "execution_count": 55,
      "outputs": [
        {
          "output_type": "execute_result",
          "data": {
            "text/plain": [
              "[45, 'Apple', 'Banana', 'Orange']"
            ]
          },
          "metadata": {
            "tags": []
          },
          "execution_count": 55
        }
      ]
    },
    {
      "cell_type": "code",
      "metadata": {
        "id": "mOBb9neYx4sn"
      },
      "source": [
        "#insert at position 1\n",
        "list1.insert(1,'Papaya')"
      ],
      "execution_count": 56,
      "outputs": []
    },
    {
      "cell_type": "code",
      "metadata": {
        "colab": {
          "base_uri": "https://localhost:8080/"
        },
        "id": "2kkxf48zyBYP",
        "outputId": "81e371a1-ae16-4d22-9adb-7e82730c2f67"
      },
      "source": [
        "list1"
      ],
      "execution_count": 57,
      "outputs": [
        {
          "output_type": "execute_result",
          "data": {
            "text/plain": [
              "[45, 'Papaya', 'Apple', 'Banana', 'Orange']"
            ]
          },
          "metadata": {
            "tags": []
          },
          "execution_count": 57
        }
      ]
    },
    {
      "cell_type": "code",
      "metadata": {
        "colab": {
          "base_uri": "https://localhost:8080/"
        },
        "id": "dOwdq1JlyCfX",
        "outputId": "2078e2ca-7cb2-4d25-fb0c-fed1d964f3e6"
      },
      "source": [
        "print(list1[-2:])"
      ],
      "execution_count": 59,
      "outputs": [
        {
          "output_type": "stream",
          "text": [
            "['Banana', 'Orange']\n"
          ],
          "name": "stdout"
        }
      ]
    },
    {
      "cell_type": "code",
      "metadata": {
        "colab": {
          "base_uri": "https://localhost:8080/"
        },
        "id": "Bk2SCRyXySeG",
        "outputId": "d2f79294-a403-41c0-ede7-95efbc849a7f"
      },
      "source": [
        "if 'Orange' in list1:\n",
        "  print('yes')\n",
        "else:\n",
        "  print('no')"
      ],
      "execution_count": 61,
      "outputs": [
        {
          "output_type": "stream",
          "text": [
            "yes\n"
          ],
          "name": "stdout"
        }
      ]
    },
    {
      "cell_type": "code",
      "metadata": {
        "id": "VQ7jpeaJyjMm"
      },
      "source": [
        "list1.remove('Orange')"
      ],
      "execution_count": 62,
      "outputs": []
    },
    {
      "cell_type": "code",
      "metadata": {
        "colab": {
          "base_uri": "https://localhost:8080/"
        },
        "id": "GaM4pIjIyyNv",
        "outputId": "4a195d15-22a5-415f-bcfa-060045bbf777"
      },
      "source": [
        "list1"
      ],
      "execution_count": 63,
      "outputs": [
        {
          "output_type": "execute_result",
          "data": {
            "text/plain": [
              "[45, 'Papaya', 'Apple', 'Banana']"
            ]
          },
          "metadata": {
            "tags": []
          },
          "execution_count": 63
        }
      ]
    },
    {
      "cell_type": "code",
      "metadata": {
        "id": "NTAnQAh3yy3H"
      },
      "source": [
        "list1.remove(45)"
      ],
      "execution_count": 64,
      "outputs": []
    },
    {
      "cell_type": "code",
      "metadata": {
        "id": "oy9B7Q7zzEp1"
      },
      "source": [
        "list1=list1+['Onion','Apple','Mango']"
      ],
      "execution_count": 70,
      "outputs": []
    },
    {
      "cell_type": "code",
      "metadata": {
        "id": "5W95oFW3zQrO"
      },
      "source": [
        "list1=list1+['Cherry','Mango']"
      ],
      "execution_count": 71,
      "outputs": []
    },
    {
      "cell_type": "code",
      "metadata": {
        "colab": {
          "base_uri": "https://localhost:8080/"
        },
        "id": "369ntrF5zZsR",
        "outputId": "44e8785b-9c41-4cde-8cf0-7a579f70524a"
      },
      "source": [
        "list1"
      ],
      "execution_count": 72,
      "outputs": [
        {
          "output_type": "execute_result",
          "data": {
            "text/plain": [
              "['Papaya',\n",
              " 'Apple',\n",
              " 'Banana',\n",
              " 'Onion',\n",
              " 'pineapple',\n",
              " 'Mango',\n",
              " 'Cherry',\n",
              " 'grapes',\n",
              " 'Onion',\n",
              " 'Apple',\n",
              " 'Mango',\n",
              " 'Cherry',\n",
              " 'Mango']"
            ]
          },
          "metadata": {
            "tags": []
          },
          "execution_count": 72
        }
      ]
    },
    {
      "cell_type": "code",
      "metadata": {
        "colab": {
          "base_uri": "https://localhost:8080/"
        },
        "id": "_2MjIgr0zhzO",
        "outputId": "37f7e729-501b-4bc7-fe85-d387d97bab88"
      },
      "source": [
        "dict1={}\n",
        "for i in list1:\n",
        "  print(i)\n",
        "  if i in dict1:\n",
        "    dict1[i]+=1\n",
        "  else:\n",
        "    dict1.update({i:1})"
      ],
      "execution_count": 75,
      "outputs": [
        {
          "output_type": "stream",
          "text": [
            "Papaya\n",
            "Apple\n",
            "Banana\n",
            "Onion\n",
            "pineapple\n",
            "Mango\n",
            "Cherry\n",
            "grapes\n",
            "Onion\n",
            "Apple\n",
            "Mango\n",
            "Cherry\n",
            "Mango\n"
          ],
          "name": "stdout"
        }
      ]
    },
    {
      "cell_type": "code",
      "metadata": {
        "colab": {
          "base_uri": "https://localhost:8080/"
        },
        "id": "okodgJYy1BJt",
        "outputId": "b7169c1c-7522-4547-d557-eacd13ede128"
      },
      "source": [
        "print(dict1)"
      ],
      "execution_count": 76,
      "outputs": [
        {
          "output_type": "stream",
          "text": [
            "{'Papaya': 1, 'Apple': 2, 'Banana': 1, 'Onion': 2, 'pineapple': 1, 'Mango': 3, 'Cherry': 2, 'grapes': 1}\n"
          ],
          "name": "stdout"
        }
      ]
    },
    {
      "cell_type": "markdown",
      "metadata": {
        "id": "tSA3r1vW8agT"
      },
      "source": [
        "Creat a python project to guess a number that has randomly selected"
      ]
    },
    {
      "cell_type": "code",
      "metadata": {
        "id": "12wGI79x1FVl"
      },
      "source": [
        "import random "
      ],
      "execution_count": 77,
      "outputs": []
    },
    {
      "cell_type": "code",
      "metadata": {
        "colab": {
          "base_uri": "https://localhost:8080/"
        },
        "id": "19llSP9W8sM6",
        "outputId": "902d9d12-f027-4ee5-f45f-f1dc23baea26"
      },
      "source": [
        "import random \n",
        "number=random.randrange(0,10)\n",
        "print(number)\n",
        "guessCheck='Wrong'\n",
        "print('Welcome to Number  guess')\n",
        "while guessCheck=='Wrong':\n",
        "  get_response=input('Please enter a number between 0 to 10 : ')\n",
        "  if get_response=='stop':\n",
        "    break\n",
        "  try: \n",
        "    data=int(get_response)\n",
        "  except ValueError:\n",
        "    print('Please enter a integer:')\n",
        "    continue\n",
        "  if data==number:\n",
        "    print(\"YES! You guessed correct number.\")\n",
        "    break\n",
        "  "
      ],
      "execution_count": 84,
      "outputs": [
        {
          "output_type": "stream",
          "text": [
            "2\n",
            "Welcome to Number  guess\n",
            "Please enter a number between 0 to 10 : 2\n",
            "YES! You guessed correct number.\n"
          ],
          "name": "stdout"
        }
      ]
    },
    {
      "cell_type": "code",
      "metadata": {
        "id": "SqoiJZst81Sp"
      },
      "source": [
        "url1='https://raw.githubusercontent.com/CSSEGISandData/COVID-19/master/csse_covid_19_data/csse_covid_19_daily_reports/03-17-2020.csv'"
      ],
      "execution_count": 86,
      "outputs": []
    },
    {
      "cell_type": "code",
      "metadata": {
        "id": "c12ieMa7BUtF"
      },
      "source": [
        "import pandas as pd\n",
        "covid_df=pd.read_csv(url1)"
      ],
      "execution_count": 87,
      "outputs": []
    },
    {
      "cell_type": "code",
      "metadata": {
        "colab": {
          "base_uri": "https://localhost:8080/",
          "height": 402
        },
        "id": "yQciBFM7DX3N",
        "outputId": "7cf6cf3c-d01a-41ae-f4fe-970948653f27"
      },
      "source": [
        "covid_df"
      ],
      "execution_count": 88,
      "outputs": [
        {
          "output_type": "execute_result",
          "data": {
            "text/html": [
              "<div>\n",
              "<style scoped>\n",
              "    .dataframe tbody tr th:only-of-type {\n",
              "        vertical-align: middle;\n",
              "    }\n",
              "\n",
              "    .dataframe tbody tr th {\n",
              "        vertical-align: top;\n",
              "    }\n",
              "\n",
              "    .dataframe thead th {\n",
              "        text-align: right;\n",
              "    }\n",
              "</style>\n",
              "<table border=\"1\" class=\"dataframe\">\n",
              "  <thead>\n",
              "    <tr style=\"text-align: right;\">\n",
              "      <th></th>\n",
              "      <th>Province/State</th>\n",
              "      <th>Country/Region</th>\n",
              "      <th>Last Update</th>\n",
              "      <th>Confirmed</th>\n",
              "      <th>Deaths</th>\n",
              "      <th>Recovered</th>\n",
              "      <th>Latitude</th>\n",
              "      <th>Longitude</th>\n",
              "    </tr>\n",
              "  </thead>\n",
              "  <tbody>\n",
              "    <tr>\n",
              "      <th>0</th>\n",
              "      <td>Hubei</td>\n",
              "      <td>China</td>\n",
              "      <td>2020-03-17T11:53:10</td>\n",
              "      <td>67799</td>\n",
              "      <td>3111</td>\n",
              "      <td>56003</td>\n",
              "      <td>30.9756</td>\n",
              "      <td>112.2707</td>\n",
              "    </tr>\n",
              "    <tr>\n",
              "      <th>1</th>\n",
              "      <td>NaN</td>\n",
              "      <td>Italy</td>\n",
              "      <td>2020-03-17T18:33:02</td>\n",
              "      <td>31506</td>\n",
              "      <td>2503</td>\n",
              "      <td>2941</td>\n",
              "      <td>41.8719</td>\n",
              "      <td>12.5674</td>\n",
              "    </tr>\n",
              "    <tr>\n",
              "      <th>2</th>\n",
              "      <td>NaN</td>\n",
              "      <td>Iran</td>\n",
              "      <td>2020-03-17T15:13:09</td>\n",
              "      <td>16169</td>\n",
              "      <td>988</td>\n",
              "      <td>5389</td>\n",
              "      <td>32.4279</td>\n",
              "      <td>53.6880</td>\n",
              "    </tr>\n",
              "    <tr>\n",
              "      <th>3</th>\n",
              "      <td>NaN</td>\n",
              "      <td>Spain</td>\n",
              "      <td>2020-03-17T20:53:02</td>\n",
              "      <td>11748</td>\n",
              "      <td>533</td>\n",
              "      <td>1028</td>\n",
              "      <td>40.4637</td>\n",
              "      <td>-3.7492</td>\n",
              "    </tr>\n",
              "    <tr>\n",
              "      <th>4</th>\n",
              "      <td>NaN</td>\n",
              "      <td>Germany</td>\n",
              "      <td>2020-03-17T18:53:02</td>\n",
              "      <td>9257</td>\n",
              "      <td>24</td>\n",
              "      <td>67</td>\n",
              "      <td>51.1657</td>\n",
              "      <td>10.4515</td>\n",
              "    </tr>\n",
              "    <tr>\n",
              "      <th>...</th>\n",
              "      <td>...</td>\n",
              "      <td>...</td>\n",
              "      <td>...</td>\n",
              "      <td>...</td>\n",
              "      <td>...</td>\n",
              "      <td>...</td>\n",
              "      <td>...</td>\n",
              "      <td>...</td>\n",
              "    </tr>\n",
              "    <tr>\n",
              "      <th>271</th>\n",
              "      <td>NaN</td>\n",
              "      <td>Guernsey</td>\n",
              "      <td>2020-03-17T18:33:03</td>\n",
              "      <td>0</td>\n",
              "      <td>0</td>\n",
              "      <td>0</td>\n",
              "      <td>49.4500</td>\n",
              "      <td>-2.5800</td>\n",
              "    </tr>\n",
              "    <tr>\n",
              "      <th>272</th>\n",
              "      <td>NaN</td>\n",
              "      <td>Jersey</td>\n",
              "      <td>2020-03-17T18:33:03</td>\n",
              "      <td>0</td>\n",
              "      <td>0</td>\n",
              "      <td>0</td>\n",
              "      <td>49.1900</td>\n",
              "      <td>-2.1100</td>\n",
              "    </tr>\n",
              "    <tr>\n",
              "      <th>273</th>\n",
              "      <td>NaN</td>\n",
              "      <td>Puerto Rico</td>\n",
              "      <td>2020-03-17T16:13:14</td>\n",
              "      <td>0</td>\n",
              "      <td>0</td>\n",
              "      <td>0</td>\n",
              "      <td>18.2000</td>\n",
              "      <td>-66.5000</td>\n",
              "    </tr>\n",
              "    <tr>\n",
              "      <th>274</th>\n",
              "      <td>NaN</td>\n",
              "      <td>Republic of the Congo</td>\n",
              "      <td>2020-03-17T21:33:03</td>\n",
              "      <td>0</td>\n",
              "      <td>0</td>\n",
              "      <td>0</td>\n",
              "      <td>-1.4400</td>\n",
              "      <td>15.5560</td>\n",
              "    </tr>\n",
              "    <tr>\n",
              "      <th>275</th>\n",
              "      <td>NaN</td>\n",
              "      <td>occupied Palestinian territory</td>\n",
              "      <td>2020-03-11T20:53:02</td>\n",
              "      <td>0</td>\n",
              "      <td>0</td>\n",
              "      <td>0</td>\n",
              "      <td>31.9522</td>\n",
              "      <td>35.2332</td>\n",
              "    </tr>\n",
              "  </tbody>\n",
              "</table>\n",
              "<p>276 rows × 8 columns</p>\n",
              "</div>"
            ],
            "text/plain": [
              "    Province/State                  Country/Region  ... Latitude  Longitude\n",
              "0            Hubei                           China  ...  30.9756   112.2707\n",
              "1              NaN                           Italy  ...  41.8719    12.5674\n",
              "2              NaN                            Iran  ...  32.4279    53.6880\n",
              "3              NaN                           Spain  ...  40.4637    -3.7492\n",
              "4              NaN                         Germany  ...  51.1657    10.4515\n",
              "..             ...                             ...  ...      ...        ...\n",
              "271            NaN                        Guernsey  ...  49.4500    -2.5800\n",
              "272            NaN                          Jersey  ...  49.1900    -2.1100\n",
              "273            NaN                     Puerto Rico  ...  18.2000   -66.5000\n",
              "274            NaN           Republic of the Congo  ...  -1.4400    15.5560\n",
              "275            NaN  occupied Palestinian territory  ...  31.9522    35.2332\n",
              "\n",
              "[276 rows x 8 columns]"
            ]
          },
          "metadata": {
            "tags": []
          },
          "execution_count": 88
        }
      ]
    },
    {
      "cell_type": "code",
      "metadata": {
        "colab": {
          "base_uri": "https://localhost:8080/",
          "height": 343
        },
        "id": "305rL-SyDc9d",
        "outputId": "ed091aae-27d2-407e-d042-a82d2aaa9637"
      },
      "source": [
        "covid_df.head(10)"
      ],
      "execution_count": 89,
      "outputs": [
        {
          "output_type": "execute_result",
          "data": {
            "text/html": [
              "<div>\n",
              "<style scoped>\n",
              "    .dataframe tbody tr th:only-of-type {\n",
              "        vertical-align: middle;\n",
              "    }\n",
              "\n",
              "    .dataframe tbody tr th {\n",
              "        vertical-align: top;\n",
              "    }\n",
              "\n",
              "    .dataframe thead th {\n",
              "        text-align: right;\n",
              "    }\n",
              "</style>\n",
              "<table border=\"1\" class=\"dataframe\">\n",
              "  <thead>\n",
              "    <tr style=\"text-align: right;\">\n",
              "      <th></th>\n",
              "      <th>Province/State</th>\n",
              "      <th>Country/Region</th>\n",
              "      <th>Last Update</th>\n",
              "      <th>Confirmed</th>\n",
              "      <th>Deaths</th>\n",
              "      <th>Recovered</th>\n",
              "      <th>Latitude</th>\n",
              "      <th>Longitude</th>\n",
              "    </tr>\n",
              "  </thead>\n",
              "  <tbody>\n",
              "    <tr>\n",
              "      <th>0</th>\n",
              "      <td>Hubei</td>\n",
              "      <td>China</td>\n",
              "      <td>2020-03-17T11:53:10</td>\n",
              "      <td>67799</td>\n",
              "      <td>3111</td>\n",
              "      <td>56003</td>\n",
              "      <td>30.9756</td>\n",
              "      <td>112.2707</td>\n",
              "    </tr>\n",
              "    <tr>\n",
              "      <th>1</th>\n",
              "      <td>NaN</td>\n",
              "      <td>Italy</td>\n",
              "      <td>2020-03-17T18:33:02</td>\n",
              "      <td>31506</td>\n",
              "      <td>2503</td>\n",
              "      <td>2941</td>\n",
              "      <td>41.8719</td>\n",
              "      <td>12.5674</td>\n",
              "    </tr>\n",
              "    <tr>\n",
              "      <th>2</th>\n",
              "      <td>NaN</td>\n",
              "      <td>Iran</td>\n",
              "      <td>2020-03-17T15:13:09</td>\n",
              "      <td>16169</td>\n",
              "      <td>988</td>\n",
              "      <td>5389</td>\n",
              "      <td>32.4279</td>\n",
              "      <td>53.6880</td>\n",
              "    </tr>\n",
              "    <tr>\n",
              "      <th>3</th>\n",
              "      <td>NaN</td>\n",
              "      <td>Spain</td>\n",
              "      <td>2020-03-17T20:53:02</td>\n",
              "      <td>11748</td>\n",
              "      <td>533</td>\n",
              "      <td>1028</td>\n",
              "      <td>40.4637</td>\n",
              "      <td>-3.7492</td>\n",
              "    </tr>\n",
              "    <tr>\n",
              "      <th>4</th>\n",
              "      <td>NaN</td>\n",
              "      <td>Germany</td>\n",
              "      <td>2020-03-17T18:53:02</td>\n",
              "      <td>9257</td>\n",
              "      <td>24</td>\n",
              "      <td>67</td>\n",
              "      <td>51.1657</td>\n",
              "      <td>10.4515</td>\n",
              "    </tr>\n",
              "    <tr>\n",
              "      <th>5</th>\n",
              "      <td>NaN</td>\n",
              "      <td>Korea, South</td>\n",
              "      <td>2020-03-17T10:33:03</td>\n",
              "      <td>8320</td>\n",
              "      <td>81</td>\n",
              "      <td>1407</td>\n",
              "      <td>35.9078</td>\n",
              "      <td>127.7669</td>\n",
              "    </tr>\n",
              "    <tr>\n",
              "      <th>6</th>\n",
              "      <td>France</td>\n",
              "      <td>France</td>\n",
              "      <td>2020-03-17T19:13:08</td>\n",
              "      <td>7652</td>\n",
              "      <td>148</td>\n",
              "      <td>12</td>\n",
              "      <td>46.2276</td>\n",
              "      <td>2.2137</td>\n",
              "    </tr>\n",
              "    <tr>\n",
              "      <th>7</th>\n",
              "      <td>NaN</td>\n",
              "      <td>Switzerland</td>\n",
              "      <td>2020-03-17T16:33:04</td>\n",
              "      <td>2700</td>\n",
              "      <td>27</td>\n",
              "      <td>4</td>\n",
              "      <td>46.8182</td>\n",
              "      <td>8.2275</td>\n",
              "    </tr>\n",
              "    <tr>\n",
              "      <th>8</th>\n",
              "      <td>United Kingdom</td>\n",
              "      <td>United Kingdom</td>\n",
              "      <td>2020-03-17T15:13:09</td>\n",
              "      <td>1950</td>\n",
              "      <td>55</td>\n",
              "      <td>52</td>\n",
              "      <td>55.3781</td>\n",
              "      <td>-3.4360</td>\n",
              "    </tr>\n",
              "    <tr>\n",
              "      <th>9</th>\n",
              "      <td>New York</td>\n",
              "      <td>US</td>\n",
              "      <td>2020-03-17T22:53:03</td>\n",
              "      <td>1706</td>\n",
              "      <td>13</td>\n",
              "      <td>0</td>\n",
              "      <td>42.1657</td>\n",
              "      <td>-74.9481</td>\n",
              "    </tr>\n",
              "  </tbody>\n",
              "</table>\n",
              "</div>"
            ],
            "text/plain": [
              "   Province/State  Country/Region  ... Latitude  Longitude\n",
              "0           Hubei           China  ...  30.9756   112.2707\n",
              "1             NaN           Italy  ...  41.8719    12.5674\n",
              "2             NaN            Iran  ...  32.4279    53.6880\n",
              "3             NaN           Spain  ...  40.4637    -3.7492\n",
              "4             NaN         Germany  ...  51.1657    10.4515\n",
              "5             NaN    Korea, South  ...  35.9078   127.7669\n",
              "6          France          France  ...  46.2276     2.2137\n",
              "7             NaN     Switzerland  ...  46.8182     8.2275\n",
              "8  United Kingdom  United Kingdom  ...  55.3781    -3.4360\n",
              "9        New York              US  ...  42.1657   -74.9481\n",
              "\n",
              "[10 rows x 8 columns]"
            ]
          },
          "metadata": {
            "tags": []
          },
          "execution_count": 89
        }
      ]
    },
    {
      "cell_type": "code",
      "metadata": {
        "colab": {
          "base_uri": "https://localhost:8080/"
        },
        "id": "QVdDdXu7D9Bd",
        "outputId": "90dd09e5-b45d-434e-eb98-e552156fd0e3"
      },
      "source": [
        "covid_df.info"
      ],
      "execution_count": 90,
      "outputs": [
        {
          "output_type": "execute_result",
          "data": {
            "text/plain": [
              "<bound method DataFrame.info of     Province/State                  Country/Region  ... Latitude  Longitude\n",
              "0            Hubei                           China  ...  30.9756   112.2707\n",
              "1              NaN                           Italy  ...  41.8719    12.5674\n",
              "2              NaN                            Iran  ...  32.4279    53.6880\n",
              "3              NaN                           Spain  ...  40.4637    -3.7492\n",
              "4              NaN                         Germany  ...  51.1657    10.4515\n",
              "..             ...                             ...  ...      ...        ...\n",
              "271            NaN                        Guernsey  ...  49.4500    -2.5800\n",
              "272            NaN                          Jersey  ...  49.1900    -2.1100\n",
              "273            NaN                     Puerto Rico  ...  18.2000   -66.5000\n",
              "274            NaN           Republic of the Congo  ...  -1.4400    15.5560\n",
              "275            NaN  occupied Palestinian territory  ...  31.9522    35.2332\n",
              "\n",
              "[276 rows x 8 columns]>"
            ]
          },
          "metadata": {
            "tags": []
          },
          "execution_count": 90
        }
      ]
    },
    {
      "cell_type": "code",
      "metadata": {
        "colab": {
          "base_uri": "https://localhost:8080/"
        },
        "id": "jxuSfnUkEDz9",
        "outputId": "f1691964-8f92-445b-8042-bc51a62c01de"
      },
      "source": [
        "print(covid_df.isna().sum())"
      ],
      "execution_count": 91,
      "outputs": [
        {
          "output_type": "stream",
          "text": [
            "Province/State    150\n",
            "Country/Region      0\n",
            "Last Update         0\n",
            "Confirmed           0\n",
            "Deaths              0\n",
            "Recovered           0\n",
            "Latitude            0\n",
            "Longitude           0\n",
            "dtype: int64\n"
          ],
          "name": "stdout"
        }
      ]
    },
    {
      "cell_type": "code",
      "metadata": {
        "colab": {
          "base_uri": "https://localhost:8080/"
        },
        "id": "-6Qw_Kr2EX_V",
        "outputId": "ddbc92b8-5722-4d61-9b85-0e6727257b55"
      },
      "source": [
        "covid_df['Country/Region']"
      ],
      "execution_count": 92,
      "outputs": [
        {
          "output_type": "execute_result",
          "data": {
            "text/plain": [
              "0                               China\n",
              "1                               Italy\n",
              "2                                Iran\n",
              "3                               Spain\n",
              "4                             Germany\n",
              "                    ...              \n",
              "271                          Guernsey\n",
              "272                            Jersey\n",
              "273                       Puerto Rico\n",
              "274             Republic of the Congo\n",
              "275    occupied Palestinian territory\n",
              "Name: Country/Region, Length: 276, dtype: object"
            ]
          },
          "metadata": {
            "tags": []
          },
          "execution_count": 92
        }
      ]
    },
    {
      "cell_type": "code",
      "metadata": {
        "id": "lEnhzoNZE0ht"
      },
      "source": [
        "a=covid_df['Confirmed']"
      ],
      "execution_count": 94,
      "outputs": []
    },
    {
      "cell_type": "code",
      "metadata": {
        "id": "WIqWhamVFE7F"
      },
      "source": [
        "covid_df['Active']=covid_df['Confirmed']-covid_df['Recovered']-covid_df['Deaths']"
      ],
      "execution_count": 95,
      "outputs": []
    },
    {
      "cell_type": "code",
      "metadata": {
        "colab": {
          "base_uri": "https://localhost:8080/"
        },
        "id": "Z8-btY61Froj",
        "outputId": "c4d0e1cd-897e-4075-ebc0-e37bc8b79c68"
      },
      "source": [
        "covid_df['Active']"
      ],
      "execution_count": 96,
      "outputs": [
        {
          "output_type": "execute_result",
          "data": {
            "text/plain": [
              "0       8685\n",
              "1      26062\n",
              "2       9792\n",
              "3      10187\n",
              "4       9166\n",
              "       ...  \n",
              "271        0\n",
              "272        0\n",
              "273        0\n",
              "274        0\n",
              "275        0\n",
              "Name: Active, Length: 276, dtype: int64"
            ]
          },
          "metadata": {
            "tags": []
          },
          "execution_count": 96
        }
      ]
    },
    {
      "cell_type": "code",
      "metadata": {
        "colab": {
          "base_uri": "https://localhost:8080/"
        },
        "id": "gX0498AUFtl0",
        "outputId": "d14c6f16-9de6-48c8-bfcd-31c035bbe4a4"
      },
      "source": [
        "result=covid_df.groupby('Country/Region')['Confirmed','Deaths','Recovered','Active'].sum().reset_index()"
      ],
      "execution_count": 97,
      "outputs": [
        {
          "output_type": "stream",
          "text": [
            "/usr/local/lib/python3.7/dist-packages/ipykernel_launcher.py:1: FutureWarning: Indexing with multiple keys (implicitly converted to a tuple of keys) will be deprecated, use a list instead.\n",
            "  \"\"\"Entry point for launching an IPython kernel.\n"
          ],
          "name": "stderr"
        }
      ]
    },
    {
      "cell_type": "code",
      "metadata": {
        "colab": {
          "base_uri": "https://localhost:8080/",
          "height": 402
        },
        "id": "60_4FmWWGUGk",
        "outputId": "30aa9c92-8c52-414c-c62c-4747f17b3432"
      },
      "source": [
        "result"
      ],
      "execution_count": 98,
      "outputs": [
        {
          "output_type": "execute_result",
          "data": {
            "text/html": [
              "<div>\n",
              "<style scoped>\n",
              "    .dataframe tbody tr th:only-of-type {\n",
              "        vertical-align: middle;\n",
              "    }\n",
              "\n",
              "    .dataframe tbody tr th {\n",
              "        vertical-align: top;\n",
              "    }\n",
              "\n",
              "    .dataframe thead th {\n",
              "        text-align: right;\n",
              "    }\n",
              "</style>\n",
              "<table border=\"1\" class=\"dataframe\">\n",
              "  <thead>\n",
              "    <tr style=\"text-align: right;\">\n",
              "      <th></th>\n",
              "      <th>Country/Region</th>\n",
              "      <th>Confirmed</th>\n",
              "      <th>Deaths</th>\n",
              "      <th>Recovered</th>\n",
              "      <th>Active</th>\n",
              "    </tr>\n",
              "  </thead>\n",
              "  <tbody>\n",
              "    <tr>\n",
              "      <th>0</th>\n",
              "      <td>Afghanistan</td>\n",
              "      <td>20</td>\n",
              "      <td>0</td>\n",
              "      <td>1</td>\n",
              "      <td>19</td>\n",
              "    </tr>\n",
              "    <tr>\n",
              "      <th>1</th>\n",
              "      <td>Albania</td>\n",
              "      <td>55</td>\n",
              "      <td>1</td>\n",
              "      <td>0</td>\n",
              "      <td>54</td>\n",
              "    </tr>\n",
              "    <tr>\n",
              "      <th>2</th>\n",
              "      <td>Algeria</td>\n",
              "      <td>60</td>\n",
              "      <td>4</td>\n",
              "      <td>12</td>\n",
              "      <td>44</td>\n",
              "    </tr>\n",
              "    <tr>\n",
              "      <th>3</th>\n",
              "      <td>Andorra</td>\n",
              "      <td>39</td>\n",
              "      <td>0</td>\n",
              "      <td>1</td>\n",
              "      <td>38</td>\n",
              "    </tr>\n",
              "    <tr>\n",
              "      <th>4</th>\n",
              "      <td>Antigua and Barbuda</td>\n",
              "      <td>1</td>\n",
              "      <td>0</td>\n",
              "      <td>0</td>\n",
              "      <td>1</td>\n",
              "    </tr>\n",
              "    <tr>\n",
              "      <th>...</th>\n",
              "      <td>...</td>\n",
              "      <td>...</td>\n",
              "      <td>...</td>\n",
              "      <td>...</td>\n",
              "      <td>...</td>\n",
              "    </tr>\n",
              "    <tr>\n",
              "      <th>154</th>\n",
              "      <td>Uruguay</td>\n",
              "      <td>29</td>\n",
              "      <td>0</td>\n",
              "      <td>0</td>\n",
              "      <td>29</td>\n",
              "    </tr>\n",
              "    <tr>\n",
              "      <th>155</th>\n",
              "      <td>Uzbekistan</td>\n",
              "      <td>10</td>\n",
              "      <td>0</td>\n",
              "      <td>0</td>\n",
              "      <td>10</td>\n",
              "    </tr>\n",
              "    <tr>\n",
              "      <th>156</th>\n",
              "      <td>Venezuela</td>\n",
              "      <td>33</td>\n",
              "      <td>0</td>\n",
              "      <td>0</td>\n",
              "      <td>33</td>\n",
              "    </tr>\n",
              "    <tr>\n",
              "      <th>157</th>\n",
              "      <td>Vietnam</td>\n",
              "      <td>66</td>\n",
              "      <td>0</td>\n",
              "      <td>16</td>\n",
              "      <td>50</td>\n",
              "    </tr>\n",
              "    <tr>\n",
              "      <th>158</th>\n",
              "      <td>occupied Palestinian territory</td>\n",
              "      <td>0</td>\n",
              "      <td>0</td>\n",
              "      <td>0</td>\n",
              "      <td>0</td>\n",
              "    </tr>\n",
              "  </tbody>\n",
              "</table>\n",
              "<p>159 rows × 5 columns</p>\n",
              "</div>"
            ],
            "text/plain": [
              "                     Country/Region  Confirmed  Deaths  Recovered  Active\n",
              "0                       Afghanistan         20       0          1      19\n",
              "1                           Albania         55       1          0      54\n",
              "2                           Algeria         60       4         12      44\n",
              "3                           Andorra         39       0          1      38\n",
              "4               Antigua and Barbuda          1       0          0       1\n",
              "..                              ...        ...     ...        ...     ...\n",
              "154                         Uruguay         29       0          0      29\n",
              "155                      Uzbekistan         10       0          0      10\n",
              "156                       Venezuela         33       0          0      33\n",
              "157                         Vietnam         66       0         16      50\n",
              "158  occupied Palestinian territory          0       0          0       0\n",
              "\n",
              "[159 rows x 5 columns]"
            ]
          },
          "metadata": {
            "tags": []
          },
          "execution_count": 98
        }
      ]
    },
    {
      "cell_type": "code",
      "metadata": {
        "colab": {
          "base_uri": "https://localhost:8080/",
          "height": 265
        },
        "id": "JoQham6HGdX7",
        "outputId": "7dca9bc0-e368-452f-8c5d-fdcf792b0556"
      },
      "source": [
        "import matplotlib.pyplot as plt\n",
        "%matplotlib inline\n",
        "result=result[result['Deaths']>20]\n",
        "plt.plot(result['Country/Region'],result['Deaths'])\n",
        "plt.show()"
      ],
      "execution_count": 106,
      "outputs": [
        {
          "output_type": "display_data",
          "data": {
            "image/png": "[encoded data removed]",
            "text/plain": [
              "<Figure size 432x288 with 1 Axes>"
            ]
          },
          "metadata": {
            "tags": [],
            "needs_background": "light"
          }
        }
      ]
    },
    {
      "cell_type": "code",
      "metadata": {
        "id": "GYs7nG0lG4Ki"
      },
      "source": [
        ""
      ],
      "execution_count": null,
      "outputs": []
    }
  ]
}
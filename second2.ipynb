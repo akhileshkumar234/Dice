{
  "nbformat": 4,
  "nbformat_minor": 0,
  "metadata": {
    "colab": {
      "name": "second2.ipynb",
      "provenance": [],
      "collapsed_sections": [],
      "authorship_tag": "ABX9TyOr7FNDZo4FXHQuP6sAh7FA",
      "include_colab_link": true
    },
    "kernelspec": {
      "name": "python3",
      "display_name": "Python 3"
    },
    "language_info": {
      "name": "python"
    }
  },
  "cells": [
    {
      "cell_type": "markdown",
      "metadata": {
        "id": "view-in-github",
        "colab_type": "text"
      },
      "source": [
        "<a href=\"https://colab.research.google.com/github/akhileshkumar234/Dice/blob/master/second2.ipynb\" target=\"_parent\"><img src=\"https://colab.research.google.com/assets/colab-badge.svg\" alt=\"Open In Colab\"/></a>"
      ]
    },
    {
      "cell_type": "code",
      "metadata": {
        "id": "1hhCG66P4d5e"
      },
      "source": [
        "print('4')"
      ],
      "execution_count": null,
      "outputs": []
    },
    {
      "cell_type": "code",
      "metadata": {
        "id": "atvKE6sc5F3A"
      },
      "source": [
        "3+4+5+5  #addition of integer"
      ],
      "execution_count": null,
      "outputs": []
    },
    {
      "cell_type": "code",
      "metadata": {
        "id": "rhGJJZr65Ko5"
      },
      "source": [
        "4+6+8.0"
      ],
      "execution_count": null,
      "outputs": []
    },
    {
      "cell_type": "code",
      "metadata": {
        "id": "ddCuYGBd5Vsx"
      },
      "source": [
        "3.4+5"
      ],
      "execution_count": null,
      "outputs": []
    },
    {
      "cell_type": "code",
      "metadata": {
        "id": "r_J98jwJ5XdY"
      },
      "source": [
        "-7+-7"
      ],
      "execution_count": null,
      "outputs": []
    },
    {
      "cell_type": "code",
      "metadata": {
        "id": "fWINLu445dST"
      },
      "source": [
        "4-(-9)"
      ],
      "execution_count": null,
      "outputs": []
    },
    {
      "cell_type": "code",
      "metadata": {
        "id": "aAw0NL1V5gXw"
      },
      "source": [
        "1-0.9999\n"
      ],
      "execution_count": null,
      "outputs": []
    },
    {
      "cell_type": "code",
      "metadata": {
        "id": "ss6uSaT95iiU"
      },
      "source": [
        "6.5%5"
      ],
      "execution_count": null,
      "outputs": []
    },
    {
      "cell_type": "code",
      "metadata": {
        "id": "qTm1tAE36Oz5"
      },
      "source": [
        "5%6"
      ],
      "execution_count": null,
      "outputs": []
    },
    {
      "cell_type": "code",
      "metadata": {
        "id": "Gp5d4aHc6c0R"
      },
      "source": [
        "55//5"
      ],
      "execution_count": null,
      "outputs": []
    },
    {
      "cell_type": "code",
      "metadata": {
        "id": "kxLZ_8_b6qPv"
      },
      "source": [
        "44//6"
      ],
      "execution_count": null,
      "outputs": []
    },
    {
      "cell_type": "code",
      "metadata": {
        "id": "KNXLwQr26sWd"
      },
      "source": [
        "5**4"
      ],
      "execution_count": null,
      "outputs": []
    },
    {
      "cell_type": "code",
      "metadata": {
        "id": "VbXbi_kj6yZQ"
      },
      "source": [
        "5**0.5"
      ],
      "execution_count": null,
      "outputs": []
    },
    {
      "cell_type": "code",
      "metadata": {
        "id": "Hkzu10_I62l8"
      },
      "source": [
        "(9+3*8-(7-5)*7)-55"
      ],
      "execution_count": null,
      "outputs": []
    },
    {
      "cell_type": "code",
      "metadata": {
        "id": "7lK1E-Ng7cx_"
      },
      "source": [
        "(8-6)/(6+5)"
      ],
      "execution_count": null,
      "outputs": []
    },
    {
      "cell_type": "code",
      "metadata": {
        "id": "CIJOKyzy7uIU"
      },
      "source": [
        "(((7*8-42)+7)-6)"
      ],
      "execution_count": null,
      "outputs": []
    },
    {
      "cell_type": "markdown",
      "metadata": {
        "id": "dAZno_D68RCV"
      },
      "source": [
        "Q1. A shopkeeper purchased six apple at cost of rupees 18 . He sold 3 at rupees 25 and two at 20 and one at 10. what was its net profit percent = profit*100/cost."
      ]
    },
    {
      "cell_type": "code",
      "metadata": {
        "id": "Fy8aZIfW9JER"
      },
      "source": [
        "(((3*25+2*20+1*10)-18*6)*100)/(18*6)"
      ],
      "execution_count": null,
      "outputs": []
    },
    {
      "cell_type": "code",
      "metadata": {
        "id": "oy6NYCY-9tHd"
      },
      "source": [
        "cost_price=6*18\n",
        "selling_price=(3*25+2*20+1*10)\n",
        "profit_percentage=(selling_price-cost_price)*100/cost_price\n",
        "print(profit_percentage)"
      ],
      "execution_count": null,
      "outputs": []
    },
    {
      "cell_type": "code",
      "metadata": {
        "id": "83dAhZ5A_Dns"
      },
      "source": [
        "num1=4\n",
        "num2=2\n",
        "num=num1**num2\n",
        "print(num)"
      ],
      "execution_count": null,
      "outputs": []
    },
    {
      "cell_type": "code",
      "metadata": {
        "id": "I7t_KkQW_bS2"
      },
      "source": [
        "x=98\n",
        "print(x)\n",
        "x=8.99\n",
        "print(x)"
      ],
      "execution_count": null,
      "outputs": []
    },
    {
      "cell_type": "code",
      "metadata": {
        "id": "kQGULa8U_5t3"
      },
      "source": [
        "print('5')\n",
        "print(9)"
      ],
      "execution_count": null,
      "outputs": []
    },
    {
      "cell_type": "code",
      "metadata": {
        "id": "qcT8DioZAer-"
      },
      "source": [
        "x=9.88\n",
        "print(x)\n",
        "y=int(x)\n",
        "print(y)\n",
        "print(int(x))"
      ],
      "execution_count": null,
      "outputs": []
    },
    {
      "cell_type": "code",
      "metadata": {
        "id": "GHO4tblrArpf"
      },
      "source": [
        "float(2)"
      ],
      "execution_count": null,
      "outputs": []
    },
    {
      "cell_type": "code",
      "metadata": {
        "id": "EzHowNEHBCd3"
      },
      "source": [
        "i=3\n",
        "i=4"
      ],
      "execution_count": null,
      "outputs": []
    },
    {
      "cell_type": "code",
      "metadata": {
        "id": "8Icd96XlBbEe"
      },
      "source": [
        "i"
      ],
      "execution_count": null,
      "outputs": []
    },
    {
      "cell_type": "code",
      "metadata": {
        "id": "apmg0f0pBc2r"
      },
      "source": [
        "i='string'"
      ],
      "execution_count": null,
      "outputs": []
    },
    {
      "cell_type": "code",
      "metadata": {
        "id": "ebvk9g-cBfVK"
      },
      "source": [
        "i"
      ],
      "execution_count": null,
      "outputs": []
    },
    {
      "cell_type": "code",
      "metadata": {
        "id": "fe-bk9BOBgv0"
      },
      "source": [
        "a,b,c=4,5,6.99\n",
        "print(a)\n",
        "print(b)\n",
        "print(c)"
      ],
      "execution_count": null,
      "outputs": []
    },
    {
      "cell_type": "code",
      "metadata": {
        "id": "VGPFBU3LCIRQ"
      },
      "source": [
        "mun1=4+5j #complex\n",
        "mun1"
      ],
      "execution_count": null,
      "outputs": []
    },
    {
      "cell_type": "code",
      "metadata": {
        "id": "8hkYkocxCk1z"
      },
      "source": [
        "type(mun1)"
      ],
      "execution_count": null,
      "outputs": []
    },
    {
      "cell_type": "code",
      "metadata": {
        "id": "vjvmqsdjCpz8"
      },
      "source": [
        "ab=True\n",
        "type(ab)"
      ],
      "execution_count": null,
      "outputs": []
    },
    {
      "cell_type": "code",
      "metadata": {
        "id": "DSIJfFqIC-Jm"
      },
      "source": [
        "b =bool(89)\n",
        "print(b)\n",
        "print(type(a))"
      ],
      "execution_count": null,
      "outputs": []
    },
    {
      "cell_type": "markdown",
      "metadata": {
        "id": "H9xFXdNcD3Tf"
      },
      "source": [
        ""
      ]
    },
    {
      "cell_type": "markdown",
      "metadata": {
        "id": "BftMtXjDD65p"
      },
      "source": [
        "##**print multiple statement in one print statement**"
      ]
    },
    {
      "cell_type": "code",
      "metadata": {
        "id": "3x7-mUfXD0mf"
      },
      "source": [
        "x=9\n",
        "b=\"Akhilesh\"\n",
        "v=9.77\n",
        "print(a,b,v)"
      ],
      "execution_count": null,
      "outputs": []
    },
    {
      "cell_type": "code",
      "metadata": {
        "id": "1VnOnr5oEWUh"
      },
      "source": [
        "print('x is '+str(x)+'\\tb is '+b+'\\nv is '+str(v))"
      ],
      "execution_count": null,
      "outputs": []
    },
    {
      "cell_type": "code",
      "metadata": {
        "id": "6hNHBQv9FUBN"
      },
      "source": [
        "x=0\n",
        "y=9\n",
        "x==y"
      ],
      "execution_count": null,
      "outputs": []
    },
    {
      "cell_type": "code",
      "metadata": {
        "id": "98gItAQLFo1m"
      },
      "source": [
        "x=7\n",
        "v=0\n",
        "print(x<8 and v<-9)"
      ],
      "execution_count": null,
      "outputs": []
    },
    {
      "cell_type": "code",
      "metadata": {
        "id": "VDYdCF28GRbp"
      },
      "source": [
        ""
      ],
      "execution_count": null,
      "outputs": []
    },
    {
      "cell_type": "code",
      "metadata": {
        "id": "LfYeMa2vGamb"
      },
      "source": [
        "x=7\n",
        "v=0\n",
        "print(x<8 or v<-9)"
      ],
      "execution_count": null,
      "outputs": []
    },
    {
      "cell_type": "code",
      "metadata": {
        "id": "mGquHxWDGcs-"
      },
      "source": [
        "'''\n",
        "hiiii\n",
        "'''\n",
        "a=0\n",
        "a"
      ],
      "execution_count": null,
      "outputs": []
    },
    {
      "cell_type": "code",
      "metadata": {
        "id": "dyoylXsRGxKe"
      },
      "source": [
        "x=4\n",
        "x>>2"
      ],
      "execution_count": null,
      "outputs": []
    },
    {
      "cell_type": "code",
      "metadata": {
        "id": "BXl0vUpMHidS"
      },
      "source": [
        "x=4\n",
        "x<<2"
      ],
      "execution_count": null,
      "outputs": []
    },
    {
      "cell_type": "code",
      "metadata": {
        "id": "JBo5sz4vH0s8"
      },
      "source": [
        "x++ #we can't use this"
      ],
      "execution_count": null,
      "outputs": []
    },
    {
      "cell_type": "code",
      "metadata": {
        "id": "jsimDp5hH8vK"
      },
      "source": [
        "x+=1"
      ],
      "execution_count": null,
      "outputs": []
    },
    {
      "cell_type": "code",
      "metadata": {
        "id": "05rJI4r1IFP7"
      },
      "source": [
        "x"
      ],
      "execution_count": null,
      "outputs": []
    },
    {
      "cell_type": "code",
      "metadata": {
        "id": "G1L3PINfIG1T"
      },
      "source": [
        "2**3"
      ],
      "execution_count": null,
      "outputs": []
    },
    {
      "cell_type": "code",
      "metadata": {
        "id": "Qq4j5nWFIwJw"
      },
      "source": [
        "a=9\n",
        "b=7\n",
        "a*=2\n",
        "b**=2\n",
        "a,b"
      ],
      "execution_count": null,
      "outputs": []
    },
    {
      "cell_type": "code",
      "metadata": {
        "id": "H3vztWMCI3ep"
      },
      "source": [
        ""
      ],
      "execution_count": null,
      "outputs": []
    },
    {
      "cell_type": "markdown",
      "metadata": {
        "id": "AY-qdPxQKA-a"
      },
      "source": [
        "#**Python: String, Condition, Loop**"
      ]
    },
    {
      "cell_type": "code",
      "metadata": {
        "colab": {
          "base_uri": "https://localhost:8080/",
          "height": 35
        },
        "id": "xru28615Kar8",
        "outputId": "dbb419e3-1669-489a-bddc-add5b8f1b73b"
      },
      "source": [
        "a=\"Hello akhilesh\"\n",
        "a"
      ],
      "execution_count": 57,
      "outputs": [
        {
          "output_type": "execute_result",
          "data": {
            "application/vnd.google.colaboratory.intrinsic+json": {
              "type": "string"
            },
            "text/plain": [
              "'Hello akhilesh'"
            ]
          },
          "metadata": {
            "tags": []
          },
          "execution_count": 57
        }
      ]
    },
    {
      "cell_type": "code",
      "metadata": {
        "colab": {
          "base_uri": "https://localhost:8080/"
        },
        "id": "pkq0vu60KuYm",
        "outputId": "973d4229-992c-4b63-e7d1-0f709bbf1f0e"
      },
      "source": [
        "print('nammmmmmoooooo')"
      ],
      "execution_count": 58,
      "outputs": [
        {
          "output_type": "stream",
          "text": [
            "nammmmmmoooooo\n"
          ],
          "name": "stdout"
        }
      ]
    },
    {
      "cell_type": "code",
      "metadata": {
        "colab": {
          "base_uri": "https://localhost:8080/",
          "height": 35
        },
        "id": "dSEz8Qf8Kxp_",
        "outputId": "a87f1499-d3cd-4e32-b87d-117ceaf6f0ea"
      },
      "source": [
        "s=\"\"\"Hii Akhilesh Awasthi \n",
        "Namrata maurya \n",
        "shivani tiwari\"\"\"\n",
        "s"
      ],
      "execution_count": 59,
      "outputs": [
        {
          "output_type": "execute_result",
          "data": {
            "application/vnd.google.colaboratory.intrinsic+json": {
              "type": "string"
            },
            "text/plain": [
              "'Hii Akhilesh Awasthi \\nNamrata maurya \\nshivani tiwari'"
            ]
          },
          "metadata": {
            "tags": []
          },
          "execution_count": 59
        }
      ]
    },
    {
      "cell_type": "code",
      "metadata": {
        "colab": {
          "base_uri": "https://localhost:8080/"
        },
        "id": "ljKU7sJqLNHh",
        "outputId": "e40a0b48-c625-457c-f9e5-6d269a4c80dc"
      },
      "source": [
        "print(s)"
      ],
      "execution_count": 60,
      "outputs": [
        {
          "output_type": "stream",
          "text": [
            "Hii Akhilesh Awasthi \n",
            "Namrata maurya \n",
            "shivani tiwari\n"
          ],
          "name": "stdout"
        }
      ]
    },
    {
      "cell_type": "code",
      "metadata": {
        "id": "_rSHd1OiLW89"
      },
      "source": [
        ""
      ],
      "execution_count": null,
      "outputs": []
    },
    {
      "cell_type": "markdown",
      "metadata": {
        "id": "lXni6jFCLtjl"
      },
      "source": [
        "#Strings are arrays"
      ]
    },
    {
      "cell_type": "code",
      "metadata": {
        "id": "CQ4iJVdRLw9v"
      },
      "source": [
        "st=\"anaconda__return\""
      ],
      "execution_count": 61,
      "outputs": []
    },
    {
      "cell_type": "code",
      "metadata": {
        "colab": {
          "base_uri": "https://localhost:8080/"
        },
        "id": "mdQRQF3eMQhb",
        "outputId": "cb9e4896-9b93-4046-8715-4100a1c8215c"
      },
      "source": [
        "print(st)\n"
      ],
      "execution_count": 62,
      "outputs": [
        {
          "output_type": "stream",
          "text": [
            "anaconda__return\n"
          ],
          "name": "stdout"
        }
      ]
    },
    {
      "cell_type": "code",
      "metadata": {
        "colab": {
          "base_uri": "https://localhost:8080/",
          "height": 35
        },
        "id": "ZZqhc6-sMS26",
        "outputId": "5fd86130-7b19-4d7d-eafd-f8ae91a0c289"
      },
      "source": [
        "st[0]"
      ],
      "execution_count": 63,
      "outputs": [
        {
          "output_type": "execute_result",
          "data": {
            "application/vnd.google.colaboratory.intrinsic+json": {
              "type": "string"
            },
            "text/plain": [
              "'a'"
            ]
          },
          "metadata": {
            "tags": []
          },
          "execution_count": 63
        }
      ]
    },
    {
      "cell_type": "code",
      "metadata": {
        "colab": {
          "base_uri": "https://localhost:8080/",
          "height": 35
        },
        "id": "BgMrD8nzMYhj",
        "outputId": "ae83ccc3-612b-49f3-e88e-7af20e269e3e"
      },
      "source": [
        "st[-1]"
      ],
      "execution_count": 64,
      "outputs": [
        {
          "output_type": "execute_result",
          "data": {
            "application/vnd.google.colaboratory.intrinsic+json": {
              "type": "string"
            },
            "text/plain": [
              "'n'"
            ]
          },
          "metadata": {
            "tags": []
          },
          "execution_count": 64
        }
      ]
    },
    {
      "cell_type": "code",
      "metadata": {
        "colab": {
          "base_uri": "https://localhost:8080/",
          "height": 35
        },
        "id": "ButHZt3NMaVX",
        "outputId": "760d0369-4618-4357-8676-a5da39265443"
      },
      "source": [
        "st[0:5]"
      ],
      "execution_count": 65,
      "outputs": [
        {
          "output_type": "execute_result",
          "data": {
            "application/vnd.google.colaboratory.intrinsic+json": {
              "type": "string"
            },
            "text/plain": [
              "'anaco'"
            ]
          },
          "metadata": {
            "tags": []
          },
          "execution_count": 65
        }
      ]
    },
    {
      "cell_type": "code",
      "metadata": {
        "colab": {
          "base_uri": "https://localhost:8080/",
          "height": 35
        },
        "id": "mYZ8fXhFM6nH",
        "outputId": "2a52ab8a-ab47-4d3c-ddb4-c651492cc6c1"
      },
      "source": [
        "st[:7]"
      ],
      "execution_count": 66,
      "outputs": [
        {
          "output_type": "execute_result",
          "data": {
            "application/vnd.google.colaboratory.intrinsic+json": {
              "type": "string"
            },
            "text/plain": [
              "'anacond'"
            ]
          },
          "metadata": {
            "tags": []
          },
          "execution_count": 66
        }
      ]
    },
    {
      "cell_type": "code",
      "metadata": {
        "colab": {
          "base_uri": "https://localhost:8080/",
          "height": 35
        },
        "id": "WcKCg8GTNAYs",
        "outputId": "baed677b-38ea-41f6-9345-b7660799eb0c"
      },
      "source": [
        "st[-2]\n"
      ],
      "execution_count": 67,
      "outputs": [
        {
          "output_type": "execute_result",
          "data": {
            "application/vnd.google.colaboratory.intrinsic+json": {
              "type": "string"
            },
            "text/plain": [
              "'r'"
            ]
          },
          "metadata": {
            "tags": []
          },
          "execution_count": 67
        }
      ]
    },
    {
      "cell_type": "code",
      "metadata": {
        "colab": {
          "base_uri": "https://localhost:8080/",
          "height": 35
        },
        "id": "HLPKCpAdNeyN",
        "outputId": "42b00a71-3394-477e-cac3-a73ce8b6ecb5"
      },
      "source": [
        "st[0:-1]"
      ],
      "execution_count": 68,
      "outputs": [
        {
          "output_type": "execute_result",
          "data": {
            "application/vnd.google.colaboratory.intrinsic+json": {
              "type": "string"
            },
            "text/plain": [
              "'anaconda__retur'"
            ]
          },
          "metadata": {
            "tags": []
          },
          "execution_count": 68
        }
      ]
    },
    {
      "cell_type": "code",
      "metadata": {
        "colab": {
          "base_uri": "https://localhost:8080/",
          "height": 35
        },
        "id": "UlqYbf9sNjq5",
        "outputId": "dcc2ec6f-eb12-43da-9527-d1a01b44e3ae"
      },
      "source": [
        "st[-5:-1]"
      ],
      "execution_count": 69,
      "outputs": [
        {
          "output_type": "execute_result",
          "data": {
            "application/vnd.google.colaboratory.intrinsic+json": {
              "type": "string"
            },
            "text/plain": [
              "'etur'"
            ]
          },
          "metadata": {
            "tags": []
          },
          "execution_count": 69
        }
      ]
    },
    {
      "cell_type": "code",
      "metadata": {
        "colab": {
          "base_uri": "https://localhost:8080/"
        },
        "id": "8ilEqDy8NvEC",
        "outputId": "5fe037f7-4a2f-4e6e-e578-ffcc0835e5ba"
      },
      "source": [
        "len(st)"
      ],
      "execution_count": 70,
      "outputs": [
        {
          "output_type": "execute_result",
          "data": {
            "text/plain": [
              "16"
            ]
          },
          "metadata": {
            "tags": []
          },
          "execution_count": 70
        }
      ]
    },
    {
      "cell_type": "markdown",
      "metadata": {
        "id": "tV8q8eFLOv80"
      },
      "source": [
        "##**string operation**"
      ]
    },
    {
      "cell_type": "code",
      "metadata": {
        "colab": {
          "base_uri": "https://localhost:8080/",
          "height": 35
        },
        "id": "uKcp4MJXOGtY",
        "outputId": "23d89ddb-9b80-409f-ce5a-fe7671812462"
      },
      "source": [
        "st.upper()"
      ],
      "execution_count": 72,
      "outputs": [
        {
          "output_type": "execute_result",
          "data": {
            "application/vnd.google.colaboratory.intrinsic+json": {
              "type": "string"
            },
            "text/plain": [
              "'ANACONDA__RETURN'"
            ]
          },
          "metadata": {
            "tags": []
          },
          "execution_count": 72
        }
      ]
    },
    {
      "cell_type": "code",
      "metadata": {
        "colab": {
          "base_uri": "https://localhost:8080/",
          "height": 35
        },
        "id": "fgsVYTz_OcXL",
        "outputId": "65bdc465-d35c-47c4-9eea-29af7ee0da76"
      },
      "source": [
        "st"
      ],
      "execution_count": 73,
      "outputs": [
        {
          "output_type": "execute_result",
          "data": {
            "application/vnd.google.colaboratory.intrinsic+json": {
              "type": "string"
            },
            "text/plain": [
              "'anaconda__return'"
            ]
          },
          "metadata": {
            "tags": []
          },
          "execution_count": 73
        }
      ]
    },
    {
      "cell_type": "code",
      "metadata": {
        "id": "Pqe8mInLOiTV"
      },
      "source": [
        "st=st.upper()\n",
        "\n"
      ],
      "execution_count": 74,
      "outputs": []
    },
    {
      "cell_type": "code",
      "metadata": {
        "colab": {
          "base_uri": "https://localhost:8080/",
          "height": 35
        },
        "id": "sGK4bdA1OooC",
        "outputId": "747cf707-276a-4842-83f7-98c63b8fc322"
      },
      "source": [
        "st"
      ],
      "execution_count": 75,
      "outputs": [
        {
          "output_type": "execute_result",
          "data": {
            "application/vnd.google.colaboratory.intrinsic+json": {
              "type": "string"
            },
            "text/plain": [
              "'ANACONDA__RETURN'"
            ]
          },
          "metadata": {
            "tags": []
          },
          "execution_count": 75
        }
      ]
    },
    {
      "cell_type": "code",
      "metadata": {
        "colab": {
          "base_uri": "https://localhost:8080/",
          "height": 35
        },
        "id": "WPtZKOYnOps_",
        "outputId": "ec5d9990-7f41-4621-8b84-947161693b23"
      },
      "source": [
        "z='     jjkscldfhdssdjk     _'\n",
        "z.strip()"
      ],
      "execution_count": 76,
      "outputs": [
        {
          "output_type": "execute_result",
          "data": {
            "application/vnd.google.colaboratory.intrinsic+json": {
              "type": "string"
            },
            "text/plain": [
              "'jjkscldfhdssdjk     _'"
            ]
          },
          "metadata": {
            "tags": []
          },
          "execution_count": 76
        }
      ]
    },
    {
      "cell_type": "code",
      "metadata": {
        "id": "MnU-umY2PRDP"
      },
      "source": [
        ""
      ],
      "execution_count": null,
      "outputs": []
    },
    {
      "cell_type": "code",
      "metadata": {
        "colab": {
          "base_uri": "https://localhost:8080/",
          "height": 35
        },
        "id": "23XeHrG_PtIX",
        "outputId": "765108f0-b106-41d0-bc51-577657ce308e"
      },
      "source": [
        "z='     jjkscldfhdssdjk     '\n",
        "z.strip()"
      ],
      "execution_count": 77,
      "outputs": [
        {
          "output_type": "execute_result",
          "data": {
            "application/vnd.google.colaboratory.intrinsic+json": {
              "type": "string"
            },
            "text/plain": [
              "'jjkscldfhdssdjk'"
            ]
          },
          "metadata": {
            "tags": []
          },
          "execution_count": 77
        }
      ]
    },
    {
      "cell_type": "code",
      "metadata": {
        "id": "6TiFdCgzPuES"
      },
      "source": [
        "text1='lion,panther,tiger,monkey'"
      ],
      "execution_count": 78,
      "outputs": []
    },
    {
      "cell_type": "code",
      "metadata": {
        "colab": {
          "base_uri": "https://localhost:8080/",
          "height": 35
        },
        "id": "VnGb0pnlQt-a",
        "outputId": "60797735-8f08-447c-d1c2-35d07cff37b4"
      },
      "source": [
        "ab='lion'\n",
        "ab.replace('lion','tiger')"
      ],
      "execution_count": 85,
      "outputs": [
        {
          "output_type": "execute_result",
          "data": {
            "application/vnd.google.colaboratory.intrinsic+json": {
              "type": "string"
            },
            "text/plain": [
              "'tiger'"
            ]
          },
          "metadata": {
            "tags": []
          },
          "execution_count": 85
        }
      ]
    },
    {
      "cell_type": "code",
      "metadata": {
        "id": "_2E762DkP8td"
      },
      "source": [
        "ast=text1.split(',')"
      ],
      "execution_count": 86,
      "outputs": []
    },
    {
      "cell_type": "code",
      "metadata": {
        "colab": {
          "base_uri": "https://localhost:8080/",
          "height": 35
        },
        "id": "tXSENcI2QClZ",
        "outputId": "d56c848f-22b4-4a2e-9b21-393c82bd400b"
      },
      "source": [
        "ast[2]"
      ],
      "execution_count": 87,
      "outputs": [
        {
          "output_type": "execute_result",
          "data": {
            "application/vnd.google.colaboratory.intrinsic+json": {
              "type": "string"
            },
            "text/plain": [
              "'tiger'"
            ]
          },
          "metadata": {
            "tags": []
          },
          "execution_count": 87
        }
      ]
    },
    {
      "cell_type": "code",
      "metadata": {
        "colab": {
          "base_uri": "https://localhost:8080/",
          "height": 35
        },
        "id": "ajoajqJpQe1g",
        "outputId": "66c2a10e-010b-4c7a-c2d6-099110262f57"
      },
      "source": [
        "ast[0]"
      ],
      "execution_count": 88,
      "outputs": [
        {
          "output_type": "execute_result",
          "data": {
            "application/vnd.google.colaboratory.intrinsic+json": {
              "type": "string"
            },
            "text/plain": [
              "'lion'"
            ]
          },
          "metadata": {
            "tags": []
          },
          "execution_count": 88
        }
      ]
    },
    {
      "cell_type": "code",
      "metadata": {
        "colab": {
          "base_uri": "https://localhost:8080/"
        },
        "id": "31It0nAvRgQT",
        "outputId": "a8c46bd0-32d4-4823-d7b4-e21198cd3f0d"
      },
      "source": [
        "text2='lion panther tiger monkey'\n",
        "text2.split('a')"
      ],
      "execution_count": 90,
      "outputs": [
        {
          "output_type": "execute_result",
          "data": {
            "text/plain": [
              "['lion p', 'nther tiger monkey']"
            ]
          },
          "metadata": {
            "tags": []
          },
          "execution_count": 90
        }
      ]
    },
    {
      "cell_type": "code",
      "metadata": {
        "colab": {
          "base_uri": "https://localhost:8080/",
          "height": 35
        },
        "id": "aGuPY7psR0zZ",
        "outputId": "378ad566-2a6b-437f-e688-af70b69200ce"
      },
      "source": [
        "st1='Akhilesh'\n",
        "st2='nammo'\n",
        "st1+\" \"+st2"
      ],
      "execution_count": 91,
      "outputs": [
        {
          "output_type": "execute_result",
          "data": {
            "application/vnd.google.colaboratory.intrinsic+json": {
              "type": "string"
            },
            "text/plain": [
              "'Akhilesh nammo'"
            ]
          },
          "metadata": {
            "tags": []
          },
          "execution_count": 91
        }
      ]
    },
    {
      "cell_type": "code",
      "metadata": {
        "colab": {
          "base_uri": "https://localhost:8080/"
        },
        "id": "ebOQFw-WSMbX",
        "outputId": "9d04d8c4-48d2-47ee-f1ed-84c370c92bc2"
      },
      "source": [
        "a=9\n",
        "b=7\n",
        "c=7.66\n",
        "myorder=\"I want {} pieces of items {} for {} dollars.\"\n",
        "print(myorder.format(a,b,c))"
      ],
      "execution_count": 92,
      "outputs": [
        {
          "output_type": "stream",
          "text": [
            "I want 9 pieces of items 7 for 7.66 dollars.\n"
          ],
          "name": "stdout"
        }
      ]
    },
    {
      "cell_type": "code",
      "metadata": {
        "id": "gxUMtZD4TfSN"
      },
      "source": [
        ""
      ],
      "execution_count": null,
      "outputs": []
    }
  ]
}